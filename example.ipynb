{
 "cells": [
  {
   "cell_type": "code",
   "execution_count": 1,
   "id": "99617745",
   "metadata": {},
   "outputs": [],
   "source": [
    "import asyncio\n",
    "import matplotlib.pyplot as plt\n",
    "import numpy as np\n",
    "\n",
    "from cvbot.communication.txtapiclient import TxtApiClient\n",
    "from cvbot.controller.easy_drive_controller import EasyDriveController\n",
    "from cvbot.config.drive_robot_configuration import DriveRobotConfiguration"
   ]
  },
  {
   "cell_type": "markdown",
   "id": "fa9da46b",
   "metadata": {},
   "source": [
    "### CVBot: How to\n",
    "This Example demomstrates which classes are needed to drive the Robot and make pictures.\n",
    "\n",
    "Note: the robot lives in a right-handed coordinate system, so the x-axis is to the right, the y-axis is down and the z-axis is forward."
   ]
  },
  {
   "cell_type": "code",
   "execution_count": null,
   "id": "3b9f847d",
   "metadata": {},
   "outputs": [],
   "source": [
    "HOST = \"[IP-of-the TXT Controller]\" # Fur USB it is \"192.168.7.2\"\n",
    "PORT = 80 # Port of the web server hosting the api, for the TXT its 80\n",
    "KEY = \"[API-KEY]\" # API key for the TXT controller, can be found in the UI of the TXT controller\n",
    "\n",
    "# The follwoing classes are needed to init the drive controller\n",
    "api_client = TxtApiClient(HOST, PORT, KEY)\n",
    "await api_client.initialize()\n",
    "controller = EasyDriveController(api_client, DriveRobotConfiguration())"
   ]
  },
  {
   "cell_type": "markdown",
   "id": "3070ab1e",
   "metadata": {},
   "source": [
    "To drive straight, one can do:"
   ]
  },
  {
   "cell_type": "code",
   "execution_count": null,
   "id": "5f48ade1",
   "metadata": {},
   "outputs": [
    {
     "data": {
      "text/plain": [
       "True"
      ]
     },
     "execution_count": 5,
     "metadata": {},
     "output_type": "execute_result"
    }
   ],
   "source": [
    "\n",
    "await controller.straight(10)\n",
    "await asyncio.sleep(1.0)\n",
    "await controller.stop()"
   ]
  },
  {
   "cell_type": "markdown",
   "id": "08ea3860",
   "metadata": {},
   "source": [
    "Sideways:"
   ]
  },
  {
   "cell_type": "code",
   "execution_count": null,
   "id": "53e63ff8",
   "metadata": {},
   "outputs": [],
   "source": [
    "\n",
    "await controller.side(10)\n",
    "await asyncio.sleep(1.0)\n",
    "await controller.stop()"
   ]
  },
  {
   "cell_type": "markdown",
   "id": "9e417e62",
   "metadata": {},
   "source": [
    "Diagonal:"
   ]
  },
  {
   "cell_type": "code",
   "execution_count": null,
   "id": "f561b728",
   "metadata": {},
   "outputs": [],
   "source": [
    "\n",
    "await controller.diagonal(10, 10)\n",
    "await asyncio.sleep(1.0)\n",
    "await controller.stop()"
   ]
  },
  {
   "cell_type": "markdown",
   "id": "9fdbdbac",
   "metadata": {},
   "source": [
    "Or all combined:"
   ]
  },
  {
   "cell_type": "code",
   "execution_count": null,
   "id": "58416b67",
   "metadata": {},
   "outputs": [
    {
     "data": {
      "text/plain": [
       "True"
      ]
     },
     "execution_count": 8,
     "metadata": {},
     "output_type": "execute_result"
    }
   ],
   "source": [
    "\n",
    "await controller.drive(np.array([0.0, 0.0, 80])) \n",
    "await asyncio.sleep(1.0)\n",
    "await controller.stop()\n"
   ]
  },
  {
   "cell_type": "markdown",
   "id": "c28c1e27",
   "metadata": {},
   "source": [
    "Images can be queried by:"
   ]
  },
  {
   "cell_type": "code",
   "execution_count": null,
   "id": "1b87d268",
   "metadata": {},
   "outputs": [],
   "source": [
    "frame = await anext(controller.camera())\n",
    "_ = plt.imshow(frame)"
   ]
  }
 ],
 "metadata": {
  "kernelspec": {
   "display_name": "cvbot-a0szf9UM-py3.10",
   "language": "python",
   "name": "python3"
  },
  "language_info": {
   "codemirror_mode": {
    "name": "ipython",
    "version": 3
   },
   "file_extension": ".py",
   "mimetype": "text/x-python",
   "name": "python",
   "nbconvert_exporter": "python",
   "pygments_lexer": "ipython3",
   "version": "3.10.11"
  }
 },
 "nbformat": 4,
 "nbformat_minor": 5
}
