{
 "cells": [
  {
   "cell_type": "code",
   "execution_count": null,
   "id": "57813cdb",
   "metadata": {},
   "outputs": [],
   "source": [
    "import cv2\n",
    "import matplotlib.pyplot as plt\n",
    "import os \n",
    "import random\n",
    "from glob import glob\n",
    "from tqdm import tqdm\n",
    "import albumentations as A\n",
    "from IPython.display import display, clear_output\n",
    "from tqdm.notebook import tqdm"
   ]
  },
  {
   "cell_type": "markdown",
   "id": "eba29705",
   "metadata": {},
   "source": [
    "SETTING UP PATHS"
   ]
  },
  {
   "cell_type": "code",
   "execution_count": 7,
   "id": "3a2533cc",
   "metadata": {},
   "outputs": [],
   "source": [
    "input_dir = r\"C:\\AAKASH\\MS_NOTES\\6th sem\\RAML\\extracted_frames_jpg\"\n",
    "output_dir = r\"C:\\AAKASH\\MS_NOTES\\6th sem\\RAML\\extracted_frames_aug_jpg\"\n",
    "os.makedirs(output_dir, exist_ok=True)"
   ]
  },
  {
   "cell_type": "markdown",
   "id": "abed9dd0",
   "metadata": {},
   "source": [
    "AUGMENATATION PIPELINE"
   ]
  },
  {
   "cell_type": "code",
   "execution_count": null,
   "id": "c4c22042",
   "metadata": {},
   "outputs": [],
   "source": [
    "augment = A.Compose([                               #sequence of transformations\n",
    "    A.OneOf([                                       #for sure selects 1 of 3 (hor,ver,rot)\n",
    "        A.HorizontalFlip(p=1.0),\n",
    "        A.VerticalFlip(p=1.0),\n",
    "        A.Rotate(limit=30, p=1.0)\n",
    "    ], p=1.0),\n",
    "    A.RandomBrightnessContrast(p=0.5),              #50% chance of inc or dec contrast\n",
    "    A.HueSaturationValue(p=0.5)                     #50% chnace of tweeking HSV\n",
    "])"
   ]
  },
  {
   "cell_type": "code",
   "execution_count": null,
   "id": "f487618d",
   "metadata": {},
   "outputs": [
    {
     "data": {
      "application/vnd.jupyter.widget-view+json": {
       "model_id": "ee2dc2328d22485cb7f87f056dd0c992",
       "version_major": 2,
       "version_minor": 0
      },
      "text/plain": [
       "  0%|          | 0/1500 [00:00<?, ?it/s]"
      ]
     },
     "metadata": {},
     "output_type": "display_data"
    }
   ],
   "source": [
    "images = glob(os.path.join(input_dir, \"*.jpg\"))\n",
    "for img_path in tqdm(images):\n",
    "    img = cv2.imread(img_path)\n",
    "    img = cv2.cvtColor(img, cv2.COLOR_BGR2RGB)                                                  #RGB format, which is expected by albumentations\n",
    "    augmented = augment(image=img)['image']                                                     #return only aug img and ignore any masks/metadata\n",
    "    aug_name = os.path.basename(img_path).replace(\".jpg\", \"_aug.jpg\")\n",
    "    cv2.imwrite(os.path.join(output_dir, aug_name), cv2.cvtColor(augmented, cv2.COLOR_RGB2BGR)) #back to BGR"
   ]
  }
 ],
 "metadata": {
  "kernelspec": {
   "display_name": "Python 3",
   "language": "python",
   "name": "python3"
  },
  "language_info": {
   "codemirror_mode": {
    "name": "ipython",
    "version": 3
   },
   "file_extension": ".py",
   "mimetype": "text/x-python",
   "name": "python",
   "nbconvert_exporter": "python",
   "pygments_lexer": "ipython3",
   "version": "3.11.5"
  }
 },
 "nbformat": 4,
 "nbformat_minor": 5
}
